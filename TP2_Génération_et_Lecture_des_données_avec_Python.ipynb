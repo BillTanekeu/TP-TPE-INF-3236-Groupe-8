{
  "nbformat": 4,
  "nbformat_minor": 0,
  "metadata": {
    "colab": {
      "name": "TP2 Génération et Lecture des données avec Python",
      "provenance": [],
      "authorship_tag": "ABX9TyPAt1Dn/kz5nom1Hzw0+0fY",
      "include_colab_link": true
    },
    "kernelspec": {
      "name": "python3",
      "display_name": "Python 3"
    },
    "language_info": {
      "name": "python"
    }
  },
  "cells": [
    {
      "cell_type": "markdown",
      "metadata": {
        "id": "view-in-github",
        "colab_type": "text"
      },
      "source": [
        "<a href=\"https://colab.research.google.com/github/BillTanekeu/TP-TPE-INF-3236-Groupe-8/blob/main/TP2_G%C3%A9n%C3%A9ration_et_Lecture_des_donn%C3%A9es_avec_Python.ipynb\" target=\"_parent\"><img src=\"https://colab.research.google.com/assets/colab-badge.svg\" alt=\"Open In Colab\"/></a>"
      ]
    },
    {
      "cell_type": "markdown",
      "source": [
        "#TP2:  Génération et Lecture des données avec Python\n",
        "\n",
        "\n",
        "> **Groupe-8**\n",
        "\n",
        "\n",
        "* Tanekeu Bill Jordan-------------------------------19M2459\n",
        "\n",
        "* Ndongo Ndongo Papia Ange Borel--------19M2308\n",
        "\n",
        "* Ghomsi Sikali Diane Laure---------------------18U2202\n",
        "\n",
        "* Tchuimo Wamba Jordan------------------------19M2396 "
      ],
      "metadata": {
        "id": "SHzGxQsNsuu3"
      }
    },
    {
      "cell_type": "code",
      "source": [
        ""
      ],
      "metadata": {
        "id": "3yR-BY07tapU"
      },
      "execution_count": null,
      "outputs": []
    },
    {
      "cell_type": "markdown",
      "source": [
        "Il est souvent difficile d'obtenir des données de test appropriées.\n",
        "Certains coûtent très cher, d'autres ne sont pas\n",
        "disponibles gratuitement car ils sont protégés par le droit\n",
        "d'auteur. Les données de test artificielles peuvent être\n",
        "une solution dans certains cas.\n",
        "\n",
        "c'est pour cette raison que nous traitons dans ce notebook la génération artificielle de données."
      ],
      "metadata": {
        "id": "u957MpVNt6ho"
      }
    },
    {
      "cell_type": "code",
      "source": [
        ""
      ],
      "metadata": {
        "id": "tcEPm1nqueyI"
      },
      "execution_count": null,
      "outputs": []
    },
    {
      "cell_type": "markdown",
      "source": [
        "## Utilisation de Pandas et Numpy pour générer les données."
      ],
      "metadata": {
        "id": "CZ-Pdc9_ugn_"
      }
    },
    {
      "cell_type": "code",
      "source": [
        ""
      ],
      "metadata": {
        "id": "4yzhQoxSu70R"
      },
      "execution_count": null,
      "outputs": []
    },
    {
      "cell_type": "markdown",
      "source": [
        "Le code Python suivant est un exemple simple dans lequel nous créons des données météorologiques artificielles pour certaines villes allemandes."
      ],
      "metadata": {
        "id": "Ng99eSQ6u-So"
      }
    },
    {
      "cell_type": "markdown",
      "source": [
        "- villes: est une liste contenant les différentes villes\n",
        "- n: nombre de villes\n",
        "- data: dictionnaires ayant 3 clés (Température, Humidité et vent) et des vecteurs comme valeurs\n",
        "- np.random.normal(mean,scale,n) produit des échantillons aléatoires à partir d'une distribution normale (gaussienne).\n",
        "mean = moyenne , scale = l'ecart-type, et n le nombre d'élément\n",
        "- df est la dataframe crée par Pandas"
      ],
      "metadata": {
        "id": "e6Ey7VbQyVHz"
      }
    },
    {
      "cell_type": "code",
      "source": [
        "import pandas as pd\n",
        "import numpy as np\n",
        "\n",
        "villes = ['Berlin', 'Francfort', 'Hambourg',\n",
        "          'Nuremberg', 'Munich', 'Stuttgart',\n",
        "          'Hanovre', 'Sarrebruck', 'Cologne',\n",
        "          'Constance', 'Fribourg', 'Karlsruhe'\n",
        "        ]\n",
        "\n",
        "n = len(villes)\n",
        "\n",
        "data = {'Température': np.random.normal(24, 3, n),\n",
        "            'Humidité': np.random.normal(78, 2.5, n),\n",
        "            'Vent': np.random.normal(15, 4, n)\n",
        "        }\n",
        "df = pd.DataFrame(data= data, index=villes)\n",
        "df"
      ],
      "metadata": {
        "colab": {
          "base_uri": "https://localhost:8080/",
          "height": 426
        },
        "id": "eRDjfKMHvLjP",
        "outputId": "2218e697-efe3-4427-939a-915eb4855240"
      },
      "execution_count": 3,
      "outputs": [
        {
          "output_type": "execute_result",
          "data": {
            "text/plain": [
              "            Température   Humidité       Vent\n",
              "Berlin        29.934939  75.496650  11.666113\n",
              "Francfort     24.506766  77.078020  15.519067\n",
              "Hambourg      26.549199  76.692442  14.336120\n",
              "Nuremberg     24.283987  77.609359  12.587961\n",
              "Munich        31.607918  75.498011  18.567022\n",
              "Stuttgart     19.090867  86.288600  20.642066\n",
              "Hanovre       27.111053  78.864894  10.669014\n",
              "Sarrebruck    21.632282  73.218056  14.223112\n",
              "Cologne       26.166579  79.574823  15.271711\n",
              "Constance     25.663618  79.225441  15.723718\n",
              "Fribourg      19.101737  78.092040  13.135337\n",
              "Karlsruhe     28.221268  78.270004  10.978093"
            ],
            "text/html": [
              "<div>\n",
              "<style scoped>\n",
              "    .dataframe tbody tr th:only-of-type {\n",
              "        vertical-align: middle;\n",
              "    }\n",
              "\n",
              "    .dataframe tbody tr th {\n",
              "        vertical-align: top;\n",
              "    }\n",
              "\n",
              "    .dataframe thead th {\n",
              "        text-align: right;\n",
              "    }\n",
              "</style>\n",
              "<table border=\"1\" class=\"dataframe\">\n",
              "  <thead>\n",
              "    <tr style=\"text-align: right;\">\n",
              "      <th></th>\n",
              "      <th>Température</th>\n",
              "      <th>Humidité</th>\n",
              "      <th>Vent</th>\n",
              "    </tr>\n",
              "  </thead>\n",
              "  <tbody>\n",
              "    <tr>\n",
              "      <th>Berlin</th>\n",
              "      <td>29.934939</td>\n",
              "      <td>75.496650</td>\n",
              "      <td>11.666113</td>\n",
              "    </tr>\n",
              "    <tr>\n",
              "      <th>Francfort</th>\n",
              "      <td>24.506766</td>\n",
              "      <td>77.078020</td>\n",
              "      <td>15.519067</td>\n",
              "    </tr>\n",
              "    <tr>\n",
              "      <th>Hambourg</th>\n",
              "      <td>26.549199</td>\n",
              "      <td>76.692442</td>\n",
              "      <td>14.336120</td>\n",
              "    </tr>\n",
              "    <tr>\n",
              "      <th>Nuremberg</th>\n",
              "      <td>24.283987</td>\n",
              "      <td>77.609359</td>\n",
              "      <td>12.587961</td>\n",
              "    </tr>\n",
              "    <tr>\n",
              "      <th>Munich</th>\n",
              "      <td>31.607918</td>\n",
              "      <td>75.498011</td>\n",
              "      <td>18.567022</td>\n",
              "    </tr>\n",
              "    <tr>\n",
              "      <th>Stuttgart</th>\n",
              "      <td>19.090867</td>\n",
              "      <td>86.288600</td>\n",
              "      <td>20.642066</td>\n",
              "    </tr>\n",
              "    <tr>\n",
              "      <th>Hanovre</th>\n",
              "      <td>27.111053</td>\n",
              "      <td>78.864894</td>\n",
              "      <td>10.669014</td>\n",
              "    </tr>\n",
              "    <tr>\n",
              "      <th>Sarrebruck</th>\n",
              "      <td>21.632282</td>\n",
              "      <td>73.218056</td>\n",
              "      <td>14.223112</td>\n",
              "    </tr>\n",
              "    <tr>\n",
              "      <th>Cologne</th>\n",
              "      <td>26.166579</td>\n",
              "      <td>79.574823</td>\n",
              "      <td>15.271711</td>\n",
              "    </tr>\n",
              "    <tr>\n",
              "      <th>Constance</th>\n",
              "      <td>25.663618</td>\n",
              "      <td>79.225441</td>\n",
              "      <td>15.723718</td>\n",
              "    </tr>\n",
              "    <tr>\n",
              "      <th>Fribourg</th>\n",
              "      <td>19.101737</td>\n",
              "      <td>78.092040</td>\n",
              "      <td>13.135337</td>\n",
              "    </tr>\n",
              "    <tr>\n",
              "      <th>Karlsruhe</th>\n",
              "      <td>28.221268</td>\n",
              "      <td>78.270004</td>\n",
              "      <td>10.978093</td>\n",
              "    </tr>\n",
              "  </tbody>\n",
              "</table>\n",
              "</div>"
            ]
          },
          "metadata": {},
          "execution_count": 3
        }
      ]
    },
    {
      "cell_type": "code",
      "source": [
        ""
      ],
      "metadata": {
        "id": "1IRd5AOl0A_J"
      },
      "execution_count": null,
      "outputs": []
    }
  ]
}