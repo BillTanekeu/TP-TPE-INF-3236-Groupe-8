{
  "nbformat": 4,
  "nbformat_minor": 0,
  "metadata": {
    "colab": {
      "name": "Tp5 perceptron simple et multi couche.ipynb",
      "provenance": [],
      "collapsed_sections": [],
      "include_colab_link": true
    },
    "kernelspec": {
      "name": "python3",
      "display_name": "Python 3"
    },
    "language_info": {
      "name": "python"
    }
  },
  "cells": [
    {
      "cell_type": "markdown",
      "metadata": {
        "id": "view-in-github",
        "colab_type": "text"
      },
      "source": [
        "<a href=\"https://colab.research.google.com/github/BillTanekeu/TP-TPE-INF-3236-Groupe-8/blob/main/Tp5_perceptron_simple_et_multi_couche.ipynb\" target=\"_parent\"><img src=\"https://colab.research.google.com/assets/colab-badge.svg\" alt=\"Open In Colab\"/></a>"
      ]
    },
    {
      "cell_type": "markdown",
      "source": [
        "#TP5: Perceptron simple et Multi couche \n",
        "\n",
        "\n",
        "> **Groupe-8**\n",
        "\n",
        "\n",
        "* Tanekeu Bill Jordan-------------------------------19M2459\n",
        "\n",
        "* Ndongo Ndongo Papia Ange Borel--------19M2308\n",
        "\n",
        "* Ghomsi Sikali Diane Laure---------------------18U2202\n",
        "\n",
        "* Tchuimo Wamba Jordan------------------------19M2396 \n",
        "\n",
        "Lien Github:\n",
        "https://github.com/BillTanekeu/TP-TPE-INF-3236-Groupe-8"
      ],
      "metadata": {
        "id": "ILXlwnfTKS8e"
      }
    },
    {
      "cell_type": "markdown",
      "source": [
        "representation d'un vecteur unidmentionnel avec numpy\n"
      ],
      "metadata": {
        "id": "wPSlByCfnWLo"
      }
    },
    {
      "cell_type": "markdown",
      "source": [
        "#NEURAL NEWORKS"
      ],
      "metadata": {
        "id": "SnsOzdFP1E8k"
      }
    },
    {
      "cell_type": "code",
      "source": [
        "import numpy as np\n",
        "input_vector = np.array([2, 4, 11])\n",
        "print(input_vector)"
      ],
      "metadata": {
        "id": "Vw_g1FJbZc7S",
        "colab": {
          "base_uri": "https://localhost:8080/"
        },
        "outputId": "351b5716-8375-44c0-df4b-78d2bc986a19"
      },
      "execution_count": null,
      "outputs": [
        {
          "output_type": "stream",
          "name": "stdout",
          "text": [
            "[ 2  4 11]\n"
          ]
        }
      ]
    },
    {
      "cell_type": "markdown",
      "source": [
        "transposition de notre vecteur en un vecteur colonne"
      ],
      "metadata": {
        "id": "u4vtAdLmqw9-"
      }
    },
    {
      "cell_type": "code",
      "source": [
        "import numpy as np\n",
        "input_vector = np.array([2, 4, 11])\n",
        "input_vector = np.array(input_vector, ndmin=2).T\n",
        "print(\"The input vector:\\n\", input_vector)\n",
        "print(\"The shape of this vector: \", input_vector.shape)"
      ],
      "metadata": {
        "colab": {
          "base_uri": "https://localhost:8080/"
        },
        "id": "IpLTE4TrquUj",
        "outputId": "90304f78-1b4c-44f8-f377-7e814e61ecf6"
      },
      "execution_count": null,
      "outputs": [
        {
          "output_type": "stream",
          "name": "stdout",
          "text": [
            "The input vector:\n",
            " [[ 2]\n",
            " [ 4]\n",
            " [11]]\n",
            "The shape of this vector:  (3, 1)\n"
          ]
        }
      ]
    },
    {
      "cell_type": "code",
      "source": [
        ""
      ],
      "metadata": {
        "id": "pwnbyu1qoJSk"
      },
      "execution_count": null,
      "outputs": []
    },
    {
      "cell_type": "markdown",
      "source": [
        "initialisation des poids de matrices:avec numpy.ramdom  la valeur des matrices est choisis aleatoirement pour que le choix soit le meilleur possible"
      ],
      "metadata": {
        "id": "dZKlyo5r1vyy"
      }
    },
    {
      "cell_type": "code",
      "source": [
        "import numpy as np\n",
        "number_of_samples = 1200\n",
        "low = -1\n",
        "high = 0\n",
        "s = np.random.uniform(low, high, number_of_samples)\n",
        "# all values of s are within the half open interval [-1, 0) :\n",
        "print(np.all(s >= -1) and np.all(s < 0))\n"
      ],
      "metadata": {
        "id": "Qs_kVQ52Zcfo",
        "colab": {
          "base_uri": "https://localhost:8080/"
        },
        "outputId": "756dd0ef-a364-4294-a6c0-ac96ee9fa3f3"
      },
      "execution_count": null,
      "outputs": [
        {
          "output_type": "stream",
          "name": "stdout",
          "text": [
            "True\n"
          ]
        }
      ]
    },
    {
      "cell_type": "code",
      "source": [
        "#histogramme  des echantillons\n",
        "import matplotlib.pyplot as plt\n",
        "plt.hist(s)\n",
        "plt.show()"
      ],
      "metadata": {
        "id": "z7kAvsWrZb_Z",
        "colab": {
          "base_uri": "https://localhost:8080/",
          "height": 265
        },
        "outputId": "dbc66d8e-0157-48a0-b4c9-480606cfff9d"
      },
      "execution_count": null,
      "outputs": [
        {
          "output_type": "display_data",
          "data": {
            "text/plain": [
              "<Figure size 432x288 with 1 Axes>"
            ],
            "image/png": "[encoded data removed]"
          },
          "metadata": {
            "needs_background": "light"
          }
        }
      ]
    },
    {
      "cell_type": "markdown",
      "source": [
        "maintenant appliquons la fonction binomiale de numpy.binomial\n",
        "il tire des echantillons d'une distribution avec 100 essais et une probabilite de 0.5 de succes "
      ],
      "metadata": {
        "id": "iR_NW6Ds3yxI"
      }
    },
    {
      "cell_type": "code",
      "source": [
        "s = np.random.binomial(100, 0.5, 1200)\n",
        "plt.hist(s)\n",
        "plt.show()\n"
      ],
      "metadata": {
        "id": "9w5LhNeHZbkh",
        "colab": {
          "base_uri": "https://localhost:8080/",
          "height": 265
        },
        "outputId": "bd8d4903-7984-4243-c1f0-67f7b780be49"
      },
      "execution_count": null,
      "outputs": [
        {
          "output_type": "display_data",
          "data": {
            "text/plain": [
              "<Figure size 432x288 with 1 Axes>"
            ],
            "image/png": "[encoded data removed]"
          },
          "metadata": {
            "needs_background": "light"
          }
        }
      ]
    },
    {
      "cell_type": "markdown",
      "source": [
        "le defaut avec notre histogramme est que nous n'avons pas de nombres aleatoires avec une distribution normale bornes avec numpy.random ; pour palier a cela nous allons utiliser scipy.stats"
      ],
      "metadata": {
        "id": "WQHOfjbn42RK"
      }
    },
    {
      "cell_type": "markdown",
      "source": [
        ""
      ],
      "metadata": {
        "id": "H3kSOniv3xPb"
      }
    },
    {
      "cell_type": "code",
      "source": [
        "from scipy.stats import truncnorm\n",
        "s = truncnorm(a=-2/3., b=2/3., scale=1, loc=0).rvs(size=1000)\n",
        "plt.hist(s)\n",
        "plt.show()\n"
      ],
      "metadata": {
        "id": "V76PhVvhZaOb",
        "colab": {
          "base_uri": "https://localhost:8080/",
          "height": 266
        },
        "outputId": "4bb6cb3a-b52c-4b77-8eab-b98079cc87ec"
      },
      "execution_count": null,
      "outputs": [
        {
          "output_type": "display_data",
          "data": {
            "text/plain": [
              "<Figure size 432x288 with 1 Axes>"
            ],
            "image/png": "[encoded data removed]"
          },
          "metadata": {
            "needs_background": "light"
          }
        }
      ]
    },
    {
      "cell_type": "markdown",
      "source": [
        "on remarque que scipy.stats est difficil a utiliser on utilise alors la fonction truncated_normal"
      ],
      "metadata": {
        "id": "ifN83i7E6s4O"
      }
    },
    {
      "cell_type": "code",
      "source": [
        "def truncated_normal(mean=0, sd=1, low=0, upp=10):\n",
        "  return truncnorm(\n",
        "(low - mean) / sd, (upp - mean) / sd, loc=mean, scale=sd)\n",
        "X = truncated_normal(mean=0, sd=0.4, low=-0.5, upp=0.5)\n",
        "s = X.rvs(10000)\n",
        "plt.hist(s)\n",
        "plt.show()"
      ],
      "metadata": {
        "id": "Jyge5aiXZWB5",
        "colab": {
          "base_uri": "https://localhost:8080/",
          "height": 265
        },
        "outputId": "047f207e-b9cc-4a5a-9f1f-79de2393a19e"
      },
      "execution_count": null,
      "outputs": [
        {
          "output_type": "display_data",
          "data": {
            "text/plain": [
              "<Figure size 432x288 with 1 Axes>"
            ],
            "image/png": "[encoded data removed]"
          },
          "metadata": {
            "needs_background": "light"
          }
        }
      ]
    },
    {
      "cell_type": "code",
      "source": [
        "#autre methodes \n",
        "X1 = truncated_normal(mean=2, sd=1, low=1, upp=10)\n",
        "X2 = truncated_normal(mean=5.5, sd=1, low=1, upp=10)\n",
        "X3 = truncated_normal(mean=8, sd=1, low=1, upp=10)\n",
        "import matplotlib.pyplot as plt\n",
        "fig, ax = plt.subplots(3, sharex=True)\n",
        "ax[0].hist(X1.rvs(10000), density=True)\n",
        "ax[1].hist(X2.rvs(10000), density=True)\n",
        "ax[2].hist(X3.rvs(10000), density=True)\n",
        "plt.show()\n"
      ],
      "metadata": {
        "id": "sKpriFBWZVWC",
        "colab": {
          "base_uri": "https://localhost:8080/",
          "height": 265
        },
        "outputId": "d75608cf-c7c4-431d-cfbc-708cc4babdb7"
      },
      "execution_count": null,
      "outputs": [
        {
          "output_type": "display_data",
          "data": {
            "text/plain": [
              "<Figure size 432x288 with 3 Axes>"
            ],
            "image/png": "[encoded data removed]"
          },
          "metadata": {
            "needs_background": "light"
          }
        }
      ]
    },
    {
      "cell_type": "markdown",
      "source": [
        "maintenant on cree la matrice de poids des liens  avec truncates_normal a valeur alatoire"
      ],
      "metadata": {
        "id": "zP9SlSJe72_h"
      }
    },
    {
      "cell_type": "code",
      "execution_count": null,
      "metadata": {
        "id": "KMlrDzhII73u",
        "colab": {
          "base_uri": "https://localhost:8080/"
        },
        "outputId": "2f2ddb0d-e85e-4dea-cdf1-7136584bf2d9"
      },
      "outputs": [
        {
          "output_type": "execute_result",
          "data": {
            "text/plain": [
              "array([[-0.32839788,  0.22690489,  0.53249265],\n",
              "       [-0.21123978,  0.35873692,  0.32594956],\n",
              "       [ 0.51256671, -0.04465704, -0.37952503],\n",
              "       [ 0.5196379 , -0.16937807,  0.13069145]])"
            ]
          },
          "metadata": {},
          "execution_count": 10
        }
      ],
      "source": [
        "#creation de la matrice \"wih\"\n",
        "\n",
        "no_of_input_nodes = 3\n",
        "no_of_hidden_nodes = 4\n",
        "rad = 1 / np.sqrt(no_of_input_nodes)\n",
        "X = truncated_normal(mean=2, sd=1, low=-rad, upp=rad)\n",
        "wih = X.rvs((no_of_hidden_nodes, no_of_input_nodes))\n",
        "wih"
      ]
    },
    {
      "cell_type": "code",
      "source": [
        "# matrice de poids \"who\"\n",
        "no_of_hidden_nodes = 4\n",
        "no_of_output_nodes = 2\n",
        "rad = 1 / np.sqrt(no_of_hidden_nodes) # this is the input in this layer!\n",
        "X = truncated_normal(mean=2, sd=1, low=-rad, upp=rad)\n",
        "who = X.rvs((no_of_output_nodes, no_of_hidden_nodes))\n",
        "who"
      ],
      "metadata": {
        "colab": {
          "base_uri": "https://localhost:8080/"
        },
        "id": "iCEmXSC2819i",
        "outputId": "8a792a1d-3603-4fc2-d6b5-a6d18c680308"
      },
      "execution_count": null,
      "outputs": [
        {
          "output_type": "execute_result",
          "data": {
            "text/plain": [
              "array([[ 0.30028379,  0.17626455,  0.48870891, -0.23847917],\n",
              "       [ 0.19792769, -0.04621087, -0.46679605,  0.30037489]])"
            ]
          },
          "metadata": {},
          "execution_count": 12
        }
      ]
    },
    {
      "cell_type": "markdown",
      "source": [
        "testons nos poids dans un environnement de reseau  neuronal reel"
      ],
      "metadata": {
        "id": "HwHFdOwb90oF"
      }
    },
    {
      "cell_type": "code",
      "source": [
        "import numpy as np\n",
        "from scipy.stats import truncnorm\n",
        "def truncated_normal(mean=0, sd=1, low=0, upp=10):\n",
        "  return truncnorm(\n",
        "      (low - mean) / sd, (upp - mean) / sd, loc=mean, scale=sd)\n",
        "class NeuralNetwork:\n",
        "  def __init__(self,\n",
        "               no_of_in_nodes,\n",
        "               no_of_out_nodes,\n",
        "               no_of_hidden_nodes,\n",
        "               learning_rate):\n",
        "    self.no_of_in_nodes = no_of_in_nodes\n",
        "    self.no_of_out_nodes = no_of_out_nodes\n",
        "    self.no_of_hidden_nodes = no_of_hidden_nodes\n",
        "    self.learning_rate = learning_rate\n",
        "    self.create_weight_matrices()\n",
        "  def create_weight_matrices(self):\n",
        "    rad = 1 / np.sqrt(self.no_of_in_nodes)\n",
        "    X = truncated_normal(mean=0, sd=1, low=-rad, upp=rad)\n",
        "    self.weights_in_hidden = X.rvs((self.no_of_hidden_nodes,\n",
        "                                    self.no_of_in_nodes))\n",
        "    rad = 1 / np.sqrt(self.no_of_hidden_nodes)\n",
        "    X = truncated_normal(mean=0, sd=1, low=-rad, upp=rad)\n",
        "    self.weights_hidden_out = X.rvs((self.no_of_out_nodes,\n",
        "                                  self.no_of_hidden_nodes))\n",
        "  def train(self):\n",
        "   pass\n",
        "  def run(self):\n",
        "    pass\n",
        " "
      ],
      "metadata": {
        "id": "ursY84Bd9PzW"
      },
      "execution_count": null,
      "outputs": []
    },
    {
      "cell_type": "code",
      "source": [
        "simple_network = NeuralNetwork(no_of_in_nodes = 3,no_of_out_nodes = 2,\n",
        "no_of_hidden_nodes = 4,\n",
        "learning_rate = 0.1)\n",
        "print(simple_network.weights_in_hidden)\n",
        "print(simple_network.weights_hidden_out)\n"
      ],
      "metadata": {
        "colab": {
          "base_uri": "https://localhost:8080/"
        },
        "id": "cgH1J2IvAAU3",
        "outputId": "2555085a-c18e-4db5-8bb6-5d33f5b5dec7"
      },
      "execution_count": null,
      "outputs": [
        {
          "output_type": "stream",
          "name": "stdout",
          "text": [
            "[[-0.065527   -0.2139082  -0.30019509]\n",
            " [ 0.5096193   0.41776769  0.12907276]\n",
            " [ 0.00854035 -0.45934631  0.20262027]\n",
            " [-0.22902852  0.35986155  0.51219087]]\n",
            "[[ 0.02360438  0.10211493 -0.37087907  0.47848704]\n",
            " [ 0.39077069  0.38214222  0.3689508   0.0594335 ]]\n"
          ]
        }
      ]
    },
    {
      "cell_type": "markdown",
      "source": [
        "fonction d'activation sigmoide avec numpy "
      ],
      "metadata": {
        "id": "3V7IfR5ZBcsO"
      }
    },
    {
      "cell_type": "code",
      "source": [
        "import numpy as np\n",
        "import matplotlib.pyplot as plt\n",
        "def sigma(x):\n",
        "  return 1 / (1 + np.exp(-x))\n",
        "X = np.linspace(-5, 5, 100)\n",
        "plt.plot(X, sigma(X),'b')\n",
        "plt.xlabel('X Axis')\n",
        "plt.ylabel('Y Axis')\n",
        "plt.title('Sigmoid Function')\n",
        "plt.grid()\n",
        "plt.text(2.3, 0.84, r'$\\sigma(x)=\\frac{1}{1+e^{-x}}$', fontsize=16)\n",
        "plt.show()"
      ],
      "metadata": {
        "colab": {
          "base_uri": "https://localhost:8080/",
          "height": 295
        },
        "id": "5CsTjMl5CX9O",
        "outputId": "19428053-ffc0-49d1-8336-6217b8145772"
      },
      "execution_count": null,
      "outputs": [
        {
          "output_type": "display_data",
          "data": {
            "text/plain": [
              "<Figure size 432x288 with 1 Axes>"
            ],
            "image/png": "[encoded data removed]"
          },
          "metadata": {
            "needs_background": "light"
          }
        }
      ]
    },
    {
      "cell_type": "markdown",
      "source": [
        " on vois  que la fonction sigmoïde mappe un nombre donné x dans la plage de nombres entre \n",
        "0 et 1. aussi au fure et a  mesure que la valeur de x augmente, la valeur de la fonction sigmoïde se rapproche de plus en plus de \n",
        "1 et à mesure que x diminue, la valeur de la fonction sigmoïde se rapproche de 0\n"
      ],
      "metadata": {
        "id": "c07ev3SuCzyj"
      }
    }
  ]
}