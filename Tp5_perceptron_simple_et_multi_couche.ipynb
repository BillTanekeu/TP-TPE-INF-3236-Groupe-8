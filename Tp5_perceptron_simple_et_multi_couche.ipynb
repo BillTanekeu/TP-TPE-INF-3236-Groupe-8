{
  "nbformat": 4,
  "nbformat_minor": 0,
  "metadata": {
    "colab": {
      "name": "Tp5 perceptron simple et multi couche.ipynb",
      "provenance": [],
      "collapsed_sections": []
    },
    "kernelspec": {
      "name": "python3",
      "display_name": "Python 3"
    },
    "language_info": {
      "name": "python"
    }
  },
  "cells": [
    {
      "cell_type": "markdown",
      "source": [
        "#TP5: Perceptron simple et Multi couche \n",
        "\n",
        "\n",
        "> **Groupe-8**\n",
        "\n",
        "\n",
        "* Tanekeu Bill Jordan-------------------------------19M2459\n",
        "\n",
        "* Ndongo Ndongo Papia Ange Borel--------19M2308\n",
        "\n",
        "* Ghomsi Sikali Diane Laure---------------------18U2202\n",
        "\n",
        "* Tchuimo Wamba Jordan------------------------19M2396 \n",
        "\n",
        "Lien Github:\n",
        "https://github.com/BillTanekeu/TP-TPE-INF-3236-Groupe-8"
      ],
      "metadata": {
        "id": "ILXlwnfTKS8e"
      }
    },
    {
      "cell_type": "markdown",
      "source": [
        "representation d'un vecteur unidmentionnel avec numpy\n"
      ],
      "metadata": {
        "id": "wPSlByCfnWLo"
      }
    },
    {
      "cell_type": "markdown",
      "source": [
        "#NEURAL NEWORKS"
      ],
      "metadata": {
        "id": "SnsOzdFP1E8k"
      }
    },
    {
      "cell_type": "code",
      "source": [
        "import matplotlib.pyplot as plt\n",
        "import numpy as np"
      ],
      "metadata": {
        "id": "bVxO_Ch8IsVu"
      },
      "execution_count": null,
      "outputs": []
    },
    {
      "cell_type": "code",
      "source": [
        "import numpy as np\n",
        "input_vector = np.array([2, 4, 11])\n",
        "print(input_vector)"
      ],
      "metadata": {
        "id": "Vw_g1FJbZc7S",
        "colab": {
          "base_uri": "https://localhost:8080/"
        },
        "outputId": "351b5716-8375-44c0-df4b-78d2bc986a19"
      },
      "execution_count": null,
      "outputs": [
        {
          "output_type": "stream",
          "name": "stdout",
          "text": [
            "[ 2  4 11]\n"
          ]
        }
      ]
    },
    {
      "cell_type": "markdown",
      "source": [
        "transposition de notre vecteur en un vecteur colonne"
      ],
      "metadata": {
        "id": "u4vtAdLmqw9-"
      }
    },
    {
      "cell_type": "code",
      "source": [
        "import numpy as np\n",
        "input_vector = np.array([2, 4, 11])\n",
        "input_vector = np.array(input_vector, ndmin=2).T\n",
        "print(\"The input vector:\\n\", input_vector)\n",
        "print(\"The shape of this vector: \", input_vector.shape)"
      ],
      "metadata": {
        "colab": {
          "base_uri": "https://localhost:8080/"
        },
        "id": "IpLTE4TrquUj",
        "outputId": "90304f78-1b4c-44f8-f377-7e814e61ecf6"
      },
      "execution_count": null,
      "outputs": [
        {
          "output_type": "stream",
          "name": "stdout",
          "text": [
            "The input vector:\n",
            " [[ 2]\n",
            " [ 4]\n",
            " [11]]\n",
            "The shape of this vector:  (3, 1)\n"
          ]
        }
      ]
    },
    {
      "cell_type": "code",
      "source": [
        ""
      ],
      "metadata": {
        "id": "pwnbyu1qoJSk"
      },
      "execution_count": null,
      "outputs": []
    },
    {
      "cell_type": "markdown",
      "source": [
        "initialisation des poids de matrices:avec numpy.ramdom  la valeur des matrices est choisis aleatoirement pour que le choix soit le meilleur possible"
      ],
      "metadata": {
        "id": "dZKlyo5r1vyy"
      }
    },
    {
      "cell_type": "code",
      "source": [
        "import numpy as np\n",
        "number_of_samples = 1200\n",
        "low = -1\n",
        "high = 0\n",
        "s = np.random.uniform(low, high, number_of_samples)\n",
        "# all values of s are within the half open interval [-1, 0) :\n",
        "print(np.all(s >= -1) and np.all(s < 0))\n"
      ],
      "metadata": {
        "id": "Qs_kVQ52Zcfo",
        "colab": {
          "base_uri": "https://localhost:8080/"
        },
        "outputId": "756dd0ef-a364-4294-a6c0-ac96ee9fa3f3"
      },
      "execution_count": null,
      "outputs": [
        {
          "output_type": "stream",
          "name": "stdout",
          "text": [
            "True\n"
          ]
        }
      ]
    },
    {
      "cell_type": "code",
      "source": [
        "#histogramme  des echantillons\n",
        "import matplotlib.pyplot as plt\n",
        "plt.hist(s)\n",
        "plt.show()"
      ],
      "metadata": {
        "id": "z7kAvsWrZb_Z",
        "colab": {
          "base_uri": "https://localhost:8080/",
          "height": 265
        },
        "outputId": "dbc66d8e-0157-48a0-b4c9-480606cfff9d"
      },
      "execution_count": null,
      "outputs": [
        {
          "output_type": "display_data",
          "data": {
            "text/plain": [
              "<Figure size 432x288 with 1 Axes>"
            ],
            "image/png": "[encoded data removed]"
          },
          "metadata": {
            "needs_background": "light"
          }
        }
      ]
    },
    {
      "cell_type": "markdown",
      "source": [
        "maintenant appliquons la fonction binomiale de numpy.binomial\n",
        "il tire des echantillons d'une distribution avec 100 essais et une probabilite de 0.5 de succes "
      ],
      "metadata": {
        "id": "iR_NW6Ds3yxI"
      }
    },
    {
      "cell_type": "code",
      "source": [
        "s = np.random.binomial(100, 0.5, 1200)\n",
        "plt.hist(s)\n",
        "plt.show()\n"
      ],
      "metadata": {
        "id": "9w5LhNeHZbkh",
        "colab": {
          "base_uri": "https://localhost:8080/",
          "height": 265
        },
        "outputId": "bd8d4903-7984-4243-c1f0-67f7b780be49"
      },
      "execution_count": null,
      "outputs": [
        {
          "output_type": "display_data",
          "data": {
            "text/plain": [
              "<Figure size 432x288 with 1 Axes>"
            ],
            "image/png": "[encoded data removed]"
          },
          "metadata": {
            "needs_background": "light"
          }
        }
      ]
    },
    {
      "cell_type": "markdown",
      "source": [
        "le defaut avec notre histogramme est que nous n'avons pas de nombres aleatoires avec une distribution normale bornes avec numpy.random ; pour palier a cela nous allons utiliser scipy.stats"
      ],
      "metadata": {
        "id": "WQHOfjbn42RK"
      }
    },
    {
      "cell_type": "markdown",
      "source": [
        ""
      ],
      "metadata": {
        "id": "H3kSOniv3xPb"
      }
    },
    {
      "cell_type": "code",
      "source": [
        "from scipy.stats import truncnorm\n",
        "s = truncnorm(a=-2/3., b=2/3., scale=1, loc=0).rvs(size=1000)\n",
        "plt.hist(s)\n",
        "plt.show()\n"
      ],
      "metadata": {
        "id": "V76PhVvhZaOb",
        "colab": {
          "base_uri": "https://localhost:8080/",
          "height": 266
        },
        "outputId": "4bb6cb3a-b52c-4b77-8eab-b98079cc87ec"
      },
      "execution_count": null,
      "outputs": [
        {
          "output_type": "display_data",
          "data": {
            "text/plain": [
              "<Figure size 432x288 with 1 Axes>"
            ],
            "image/png": "[encoded data removed]"
          },
          "metadata": {
            "needs_background": "light"
          }
        }
      ]
    },
    {
      "cell_type": "markdown",
      "source": [
        "on remarque que scipy.stats est difficil a utiliser on utilise alors la fonction truncated_normal"
      ],
      "metadata": {
        "id": "ifN83i7E6s4O"
      }
    },
    {
      "cell_type": "code",
      "source": [
        "def truncated_normal(mean=0, sd=1, low=0, upp=10):\n",
        "  return truncnorm(\n",
        "(low - mean) / sd, (upp - mean) / sd, loc=mean, scale=sd)\n",
        "X = truncated_normal(mean=0, sd=0.4, low=-0.5, upp=0.5)\n",
        "s = X.rvs(10000)\n",
        "plt.hist(s)\n",
        "plt.show()"
      ],
      "metadata": {
        "id": "Jyge5aiXZWB5",
        "colab": {
          "base_uri": "https://localhost:8080/",
          "height": 265
        },
        "outputId": "047f207e-b9cc-4a5a-9f1f-79de2393a19e"
      },
      "execution_count": null,
      "outputs": [
        {
          "output_type": "display_data",
          "data": {
            "text/plain": [
              "<Figure size 432x288 with 1 Axes>"
            ],
            "image/png": "[encoded data removed]"
          },
          "metadata": {
            "needs_background": "light"
          }
        }
      ]
    },
    {
      "cell_type": "code",
      "source": [
        "#autre methodes \n",
        "X1 = truncated_normal(mean=2, sd=1, low=1, upp=10)\n",
        "X2 = truncated_normal(mean=5.5, sd=1, low=1, upp=10)\n",
        "X3 = truncated_normal(mean=8, sd=1, low=1, upp=10)\n",
        "import matplotlib.pyplot as plt\n",
        "fig, ax = plt.subplots(3, sharex=True)\n",
        "ax[0].hist(X1.rvs(10000), density=True)\n",
        "ax[1].hist(X2.rvs(10000), density=True)\n",
        "ax[2].hist(X3.rvs(10000), density=True)\n",
        "plt.show()\n"
      ],
      "metadata": {
        "id": "sKpriFBWZVWC",
        "colab": {
          "base_uri": "https://localhost:8080/",
          "height": 265
        },
        "outputId": "d75608cf-c7c4-431d-cfbc-708cc4babdb7"
      },
      "execution_count": null,
      "outputs": [
        {
          "output_type": "display_data",
          "data": {
            "text/plain": [
              "<Figure size 432x288 with 3 Axes>"
            ],
            "image/png": "[encoded data removed]"
          },
          "metadata": {
            "needs_background": "light"
          }
        }
      ]
    },
    {
      "cell_type": "markdown",
      "source": [
        "maintenant on cree la matrice de poids des liens  avec truncates_normal a valeur alatoire"
      ],
      "metadata": {
        "id": "zP9SlSJe72_h"
      }
    },
    {
      "cell_type": "code",
      "execution_count": null,
      "metadata": {
        "id": "KMlrDzhII73u",
        "colab": {
          "base_uri": "https://localhost:8080/"
        },
        "outputId": "2f2ddb0d-e85e-4dea-cdf1-7136584bf2d9"
      },
      "outputs": [
        {
          "output_type": "execute_result",
          "data": {
            "text/plain": [
              "array([[-0.32839788,  0.22690489,  0.53249265],\n",
              "       [-0.21123978,  0.35873692,  0.32594956],\n",
              "       [ 0.51256671, -0.04465704, -0.37952503],\n",
              "       [ 0.5196379 , -0.16937807,  0.13069145]])"
            ]
          },
          "metadata": {},
          "execution_count": 10
        }
      ],
      "source": [
        "#creation de la matrice \"wih\"\n",
        "\n",
        "no_of_input_nodes = 3\n",
        "no_of_hidden_nodes = 4\n",
        "rad = 1 / np.sqrt(no_of_input_nodes)\n",
        "X = truncated_normal(mean=2, sd=1, low=-rad, upp=rad)\n",
        "wih = X.rvs((no_of_hidden_nodes, no_of_input_nodes))\n",
        "wih"
      ]
    },
    {
      "cell_type": "code",
      "source": [
        "# matrice de poids \"who\"\n",
        "no_of_hidden_nodes = 4\n",
        "no_of_output_nodes = 2\n",
        "rad = 1 / np.sqrt(no_of_hidden_nodes) # this is the input in this layer!\n",
        "X = truncated_normal(mean=2, sd=1, low=-rad, upp=rad)\n",
        "who = X.rvs((no_of_output_nodes, no_of_hidden_nodes))\n",
        "who"
      ],
      "metadata": {
        "colab": {
          "base_uri": "https://localhost:8080/"
        },
        "id": "iCEmXSC2819i",
        "outputId": "8a792a1d-3603-4fc2-d6b5-a6d18c680308"
      },
      "execution_count": null,
      "outputs": [
        {
          "output_type": "execute_result",
          "data": {
            "text/plain": [
              "array([[ 0.30028379,  0.17626455,  0.48870891, -0.23847917],\n",
              "       [ 0.19792769, -0.04621087, -0.46679605,  0.30037489]])"
            ]
          },
          "metadata": {},
          "execution_count": 12
        }
      ]
    },
    {
      "cell_type": "markdown",
      "source": [
        "testons nos poids dans un environnement de reseau  neuronal reel"
      ],
      "metadata": {
        "id": "HwHFdOwb90oF"
      }
    },
    {
      "cell_type": "code",
      "source": [
        "import numpy as np\n",
        "from scipy.stats import truncnorm\n",
        "def truncated_normal(mean=0, sd=1, low=0, upp=10):\n",
        "  return truncnorm(\n",
        "      (low - mean) / sd, (upp - mean) / sd, loc=mean, scale=sd)\n",
        "class NeuralNetwork:\n",
        "  def __init__(self,\n",
        "               no_of_in_nodes,\n",
        "               no_of_out_nodes,\n",
        "               no_of_hidden_nodes,\n",
        "               learning_rate):\n",
        "    self.no_of_in_nodes = no_of_in_nodes\n",
        "    self.no_of_out_nodes = no_of_out_nodes\n",
        "    self.no_of_hidden_nodes = no_of_hidden_nodes\n",
        "    self.learning_rate = learning_rate\n",
        "    self.create_weight_matrices()\n",
        "  def create_weight_matrices(self):\n",
        "    rad = 1 / np.sqrt(self.no_of_in_nodes)\n",
        "    X = truncated_normal(mean=0, sd=1, low=-rad, upp=rad)\n",
        "    self.weights_in_hidden = X.rvs((self.no_of_hidden_nodes,\n",
        "                                    self.no_of_in_nodes))\n",
        "    rad = 1 / np.sqrt(self.no_of_hidden_nodes)\n",
        "    X = truncated_normal(mean=0, sd=1, low=-rad, upp=rad)\n",
        "    self.weights_hidden_out = X.rvs((self.no_of_out_nodes,\n",
        "                                  self.no_of_hidden_nodes))\n",
        "  def train(self):\n",
        "   pass\n",
        "  def run(self):\n",
        "    pass\n",
        " "
      ],
      "metadata": {
        "id": "ursY84Bd9PzW"
      },
      "execution_count": null,
      "outputs": []
    },
    {
      "cell_type": "code",
      "source": [
        "simple_network = NeuralNetwork(no_of_in_nodes = 3,no_of_out_nodes = 2,\n",
        "no_of_hidden_nodes = 4,\n",
        "learning_rate = 0.1)\n",
        "print(simple_network.weights_in_hidden)\n",
        "print(simple_network.weights_hidden_out)\n"
      ],
      "metadata": {
        "colab": {
          "base_uri": "https://localhost:8080/"
        },
        "id": "cgH1J2IvAAU3",
        "outputId": "2555085a-c18e-4db5-8bb6-5d33f5b5dec7"
      },
      "execution_count": null,
      "outputs": [
        {
          "output_type": "stream",
          "name": "stdout",
          "text": [
            "[[-0.065527   -0.2139082  -0.30019509]\n",
            " [ 0.5096193   0.41776769  0.12907276]\n",
            " [ 0.00854035 -0.45934631  0.20262027]\n",
            " [-0.22902852  0.35986155  0.51219087]]\n",
            "[[ 0.02360438  0.10211493 -0.37087907  0.47848704]\n",
            " [ 0.39077069  0.38214222  0.3689508   0.0594335 ]]\n"
          ]
        }
      ]
    },
    {
      "cell_type": "markdown",
      "source": [
        "fonction d'activation sigmoide avec numpy "
      ],
      "metadata": {
        "id": "3V7IfR5ZBcsO"
      }
    },
    {
      "cell_type": "code",
      "source": [
        "import numpy as np\n",
        "import matplotlib.pyplot as plt\n",
        "def sigma(x):\n",
        "  return 1 / (1 + np.exp(-x))\n",
        "X = np.linspace(-5, 5, 100)\n",
        "plt.plot(X, sigma(X),'b')\n",
        "plt.xlabel('X Axis')\n",
        "plt.ylabel('Y Axis')\n",
        "plt.title('Sigmoid Function')\n",
        "plt.grid()\n",
        "plt.text(2.3, 0.84, r'$\\sigma(x)=\\frac{1}{1+e^{-x}}$', fontsize=16)\n",
        "plt.show()"
      ],
      "metadata": {
        "colab": {
          "base_uri": "https://localhost:8080/",
          "height": 295
        },
        "id": "5CsTjMl5CX9O",
        "outputId": "19428053-ffc0-49d1-8336-6217b8145772"
      },
      "execution_count": null,
      "outputs": [
        {
          "output_type": "display_data",
          "data": {
            "text/plain": [
              "<Figure size 432x288 with 1 Axes>"
            ],
            "image/png": "[encoded data removed]"
          },
          "metadata": {
            "needs_background": "light"
          }
        }
      ]
    },
    {
      "cell_type": "markdown",
      "source": [
        " on vois  que la fonction sigmoïde mappe un nombre donné x dans la plage de nombres entre \n",
        "0 et 1. aussi au fure et a  mesure que la valeur de x augmente, la valeur de la fonction sigmoïde se rapproche de plus en plus de \n",
        "1 et à mesure que x diminue, la valeur de la fonction sigmoïde se rapproche de 0\n"
      ],
      "metadata": {
        "id": "c07ev3SuCzyj"
      }
    },
    {
      "cell_type": "code",
      "source": [
        "from scipy.special import expit\n",
        "print(expit(3.4))\n",
        "print(expit([3, 4, 1]))\n",
        "print(expit(np.array([0.8, 2.3, 8])))"
      ],
      "metadata": {
        "colab": {
          "base_uri": "https://localhost:8080/"
        },
        "id": "Ex2cmftcJRUG",
        "outputId": "97522d32-cbf4-4765-d06e-a8abddd56933"
      },
      "execution_count": null,
      "outputs": [
        {
          "output_type": "stream",
          "name": "stdout",
          "text": [
            "0.9677045353015494\n",
            "[0.95257413 0.98201379 0.73105858]\n",
            "[0.68997448 0.90887704 0.99966465]\n"
          ]
        }
      ]
    },
    {
      "cell_type": "markdown",
      "source": [
        "expit importé à partir scipy.special est une version implémentée de la fonction sigmoide qui s'applique aux entiers , réels , tableaux numpy et autres..."
      ],
      "metadata": {
        "id": "7chx6iOOPMiR"
      }
    },
    {
      "cell_type": "code",
      "source": [
        "import numpy as np\n",
        "import matplotlib.pyplot as plt\n",
        "def sigma(x):\n",
        "    return 1 / (1 + np.exp(-x))\n",
        "X = np.linspace(-5, 5, 100)\n",
        "plt.plot(X, sigma(X))\n",
        "plt.plot(X, sigma(X) * (1 - sigma(X)))\n",
        "plt.xlabel('X Axis')\n",
        "plt.ylabel('Y Axis')\n",
        "plt.title('Sigmoid Function')\n",
        "plt.grid()\n",
        "plt.text(2.3, 0.84, r'$\\sigma(x)=\\frac{1}{1+e^{-x}}$', fontsize=16)\n",
        "plt.text(0.3, 0.1, r'$\\sigma\\'(x) = \\sigma(x)(1 - \\sigma(x))$', fontsize=16)\n",
        "plt.show()"
      ],
      "metadata": {
        "colab": {
          "base_uri": "https://localhost:8080/",
          "height": 295
        },
        "id": "0gVUMcioJYxg",
        "outputId": "a99bf263-362c-4d17-9516-cf82d14fda96"
      },
      "execution_count": null,
      "outputs": [
        {
          "output_type": "display_data",
          "data": {
            "text/plain": [
              "<Figure size 432x288 with 1 Axes>"
            ],
            "image/png": "[encoded data removed]"
          },
          "metadata": {
            "needs_background": "light"
          }
        }
      ]
    },
    {
      "cell_type": "markdown",
      "source": [
        "Traacé de la fontion sigmoide et de sa dérivée dans le même repère."
      ],
      "metadata": {
        "id": "CLorQdglJ_C8"
      }
    },
    {
      "cell_type": "code",
      "source": [
        "@np.vectorize\n",
        "def sigmoid(x):\n",
        "    return 1 / (1 + np.e ** -x)\n",
        "#sigmoid = np.vectorize(sigmoid)\n",
        "sigmoid([3, 4, 5])"
      ],
      "metadata": {
        "colab": {
          "base_uri": "https://localhost:8080/"
        },
        "id": "eAWRi1lpKPIT",
        "outputId": "2950ae63-7a86-4b75-fad0-b99ca259e58d"
      },
      "execution_count": null,
      "outputs": [
        {
          "output_type": "execute_result",
          "data": {
            "text/plain": [
              "array([0.95257413, 0.98201379, 0.99330715])"
            ]
          },
          "metadata": {},
          "execution_count": 5
        }
      ]
    },
    {
      "cell_type": "markdown",
      "source": [
        "définition de la fonction sigmoide sous la forme vectorisée et calcul des images de quelques réels par cette dernière"
      ],
      "metadata": {
        "id": "bQDN3CKYKftt"
      }
    },
    {
      "cell_type": "code",
      "source": [
        "def ReLU(x):\n",
        "    return np.maximum(0.0, x)\n",
        "# derivation of relu\n",
        "def ReLU_derivation(x):\n",
        "    if x <= 0:\n",
        "        return 0\n",
        "    else:\n",
        "        return 1"
      ],
      "metadata": {
        "id": "ho0ACu_DKw8o"
      },
      "execution_count": null,
      "outputs": []
    },
    {
      "cell_type": "markdown",
      "source": [
        "Définition d'un autre type de fonction d'activation: la fonction RELU.\n",
        "cette fonction pour un entier x donné renvoit le maximum entre ce x et 0 , ce qui signifie que lorsque x est négatif ou égal à zéro , relu(x)=0 et relu(x)=x sinon"
      ],
      "metadata": {
        "id": "QdWoxSYHLBVF"
      }
    },
    {
      "cell_type": "code",
      "source": [
        "import numpy as np\n",
        "import matplotlib.pyplot as plt\n",
        "X = np.linspace(-5, 6, 100)\n",
        "plt.plot(X, ReLU(X),'b')\n",
        "plt.xlabel('X Axis')\n",
        "plt.ylabel('Y Axis')\n",
        "plt.title('ReLU Function')\n",
        "plt.grid()\n",
        "plt.text(0.8, 0.4, r'$ReLU(x)=max(0, x)$', fontsize=14)\n",
        "plt.show()"
      ],
      "metadata": {
        "colab": {
          "base_uri": "https://localhost:8080/",
          "height": 295
        },
        "id": "GrMwej4cLpqm",
        "outputId": "4e2344a9-1eb4-4ad3-a324-650db6b05456"
      },
      "execution_count": null,
      "outputs": [
        {
          "output_type": "display_data",
          "data": {
            "text/plain": [
              "<Figure size 432x288 with 1 Axes>"
            ],
            "image/png": "[encoded data removed]"
          },
          "metadata": {
            "needs_background": "light"
          }
        }
      ]
    },
    {
      "cell_type": "markdown",
      "source": [
        "courbe de la fonction relu sur l'intervalle [-5,6]"
      ],
      "metadata": {
        "id": "WzaJUDcWL3na"
      }
    },
    {
      "cell_type": "code",
      "source": [
        "from scipy.special import expit as activation_function   # importation de la fonction d'activation scipy sous le nom  activation_function\n",
        "import numpy as np\n",
        "from scipy.stats import truncnorm"
      ],
      "metadata": {
        "id": "I6MiuVFvMI4J"
      },
      "execution_count": null,
      "outputs": []
    },
    {
      "cell_type": "code",
      "source": [
        "\n",
        "def truncated_normal(mean=0, sd=1, low=0, upp=10):\n",
        "    return truncnorm((low - mean) / sd, (upp - mean) / sd, loc=mean, scale=sd)\n",
        "class NeuralNetwork:\n",
        "    def __init__(self,no_of_in_nodes,no_of_out_nodes,no_of_hidden_nodes,learning_rate):\n",
        "        self.no_of_in_nodes = no_of_in_nodes\n",
        "        self.no_of_out_nodes = no_of_out_nodes\n",
        "        self.no_of_hidden_nodes = no_of_hidden_nodes\n",
        "        self.learning_rate = learning_rate\n",
        "        self.create_weight_matrices()\n",
        "    def create_weight_matrices(self):\n",
        "        rad = 1 / np.sqrt(self.no_of_in_nodes)\n",
        "        X = truncated_normal(mean=0, sd=1, low=-rad, upp=rad)\n",
        "        self.weights_in_hidden = X.rvs((self.no_of_hidden_nodes,\n",
        "        self.no_of_in_nodes))\n",
        "        rad = 1 / np.sqrt(self.no_of_hidden_nodes)\n",
        "        X = truncated_normal(mean=0, sd=1, low=-rad, upp=rad)\n",
        "        self.weights_hidden_out = X.rvs((self.no_of_out_nodes,\n",
        "        self.no_of_hidden_nodes))\n",
        "    def train(self, input_vector, target_vector):\n",
        "        pass\n",
        "    def run(self, input_vector):\n",
        "# turning the input vector into a column vector\n",
        "        input_vector = np.array(input_vector, ndmin=2).T\n",
        "        input_hidden = activation_function(self.weights_in_hidden@ input_vector)\n",
        "        output_vector = activation_function(self.weights_hidden_out @ input_hidden)\n",
        "        return output_vector"
      ],
      "metadata": {
        "id": "4fJ1gdpTMkoF"
      },
      "execution_count": null,
      "outputs": []
    },
    {
      "cell_type": "markdown",
      "source": [
        "création d'un réseau de neurones prenant en entrée une matrice dont les activations successives au niveau de la couche intermédiaire et de la couche de sortie se feront grace à notre fonction scipy renommée précédemment en activation_function"
      ],
      "metadata": {
        "id": "3LYyDilmOH4R"
      }
    },
    {
      "cell_type": "code",
      "source": [
        "simple_network = NeuralNetwork(no_of_in_nodes=2,no_of_out_nodes=2,no_of_hidden_nodes=4,learning_rate=0.6)\n",
        "simple_network.run([(3, 4)])"
      ],
      "metadata": {
        "colab": {
          "base_uri": "https://localhost:8080/"
        },
        "id": "jDePry1fOINX",
        "outputId": "a67de53e-1348-4828-ddac-0f68ee72b66a"
      },
      "execution_count": null,
      "outputs": [
        {
          "output_type": "execute_result",
          "data": {
            "text/plain": [
              "array([[0.36666721],\n",
              "       [0.42705733]])"
            ]
          },
          "metadata": {},
          "execution_count": 11
        }
      ]
    },
    {
      "cell_type": "markdown",
      "source": [
        "définition de notre fonction de réseaux avec deux neurones dans la couche d'entrée, de aussi dans la couche de sortie et 4 dans la couche intermédiaire. \n",
        "Evaluation avec le vecteur [(3, 4)] en entrée et 0.6 comme taux d'apprentissage."
      ],
      "metadata": {
        "id": "G4tVEvI5RelH"
      }
    },
    {
      "cell_type": "code",
      "source": [
        "\n",
        "def truncated_normal(mean=0, sd=1, low=0, upp=10):\n",
        "    return truncnorm((low - mean) / sd, (upp - mean) / sd, loc=mean, scale=sd)\n",
        "class NeuralNetwork:\n",
        "    def __init__(self,no_of_in_nodes,no_of_out_nodes,no_of_hidden_nodes,learning_rate):    # fonction pour notre réseau de neurones\n",
        "        self.no_of_in_nodes = no_of_in_nodes  # nombre de neurones dans la couche d'entrée\n",
        "        self.no_of_out_nodes = no_of_out_nodes # définition du nombre de neurones dans la couche de sortie\n",
        "        self.no_of_hidden_nodes = no_of_hidden_nodes      # nombres de neurones de la couche intermédiaire\n",
        "        self.learning_rate = learning_rate    # définition du taux d'apprentissage\n",
        "        self.create_weight_matrices()    # création d'une matrice pour ces éléments \n",
        "   \n",
        "    def create_weight_matrices(self):\n",
        "        rad = 1 / np.sqrt(self.no_of_in_nodes)\n",
        "        X = truncated_normal(mean=0, sd=1, low=-rad, upp=rad)\n",
        "        self.weights_in_hidden = X.rvs((self.no_of_hidden_nodes,self.no_of_in_nodes))\n",
        "        rad = 1 / np.sqrt(self.no_of_hidden_nodes)\n",
        "        X = truncated_normal(mean=0, sd=1, low=-rad, upp=rad)\n",
        "        self.weights_hidden_out = X.rvs((self.no_of_out_nodes,self.no_of_hidden_nodes))\n",
        "   \n",
        "    def train(self, input_vector, target_vector):\n",
        "        pass\n",
        "    \n",
        "    def run(self, input_vector):\n",
        "# turning the input vector into a column vector\n",
        "        input_vector = np.array(input_vector, ndmin=2).T    # transformation de nos entrées en vecteur colonne\n",
        "        input_hidden = activation_function(self.weights_in_hidden@ input_vector)\n",
        "        output_vector = activation_function(self.weights_hidden_out @ input_hidden)\n",
        "        return output_vector\n",
        "        # run permet pour un vecteur d'entrées de donner la sortie en utilisant à chaque niveau l'activation scipy\n",
        "   \n",
        "    def evaluate(self, data, labels):\n",
        "        corrects, wrongs = 0, 0\n",
        "        for i in range(len(data)):\n",
        "            res_max = res.argmax()\n",
        "            if res_max == labels[i].argmax():\n",
        "                corrects += 1\n",
        "            else:\n",
        "                wrongs += 1\n",
        "        return corrects, wrongs\n",
        "      # évaluation du modèle. la sortie voulue est comparée à l sortie du modèle qui est en faite le noeud de sortie ayant la plus grande valeur"
      ],
      "metadata": {
        "id": "m1tiLdcnSOnp"
      },
      "execution_count": 39,
      "outputs": []
    },
    {
      "cell_type": "markdown",
      "source": [
        "Définition du même réseau de neurone précedent, accompagné cette fois d'une fonction d'évaluation"
      ],
      "metadata": {
        "id": "IauN-iyUZxGh"
      }
    },
    {
      "cell_type": "code",
      "source": [
        "from sklearn.datasets import make_blobs\n",
        "n_samples = 500\n",
        "blob_centers = ([2, 6], [6, 2], [7, 7])\n",
        "n_classes = len(blob_centers)\n",
        "data, labels = make_blobs(n_samples=n_samples,centers=blob_centers,random_state=7)"
      ],
      "metadata": {
        "id": "XEz1uO_uZlk5"
      },
      "execution_count": 32,
      "outputs": []
    },
    {
      "cell_type": "markdown",
      "source": [
        "utilisations du jeu de données make blobs de sklearn pour tester notre réseau de neurones"
      ],
      "metadata": {
        "id": "sm1vOQSpZwo4"
      }
    },
    {
      "cell_type": "code",
      "source": [
        "import matplotlib.pyplot as plt\n",
        "colours = ('green', 'red', \"yellow\")\n",
        "fig, ax = plt.subplots()\n",
        "for n_class in range(n_classes):\n",
        "    ax.scatter(data[labels==n_class][:, 0],\n",
        "    data[labels==n_class][:, 1],c=colours[n_class],s=40,label=str(n_class))"
      ],
      "metadata": {
        "colab": {
          "base_uri": "https://localhost:8080/",
          "height": 267
        },
        "id": "YHa4x-jKZvxC",
        "outputId": "8f6d20c7-1e6b-439f-f11a-25abe1a9c42e"
      },
      "execution_count": 33,
      "outputs": [
        {
          "output_type": "display_data",
          "data": {
            "text/plain": [
              "<Figure size 432x288 with 1 Axes>"
            ],
            "image/png": "[encoded data removed]"
          },
          "metadata": {
            "needs_background": "light"
          }
        }
      ]
    },
    {
      "cell_type": "markdown",
      "source": [
        "définition de trois classes de couleurs différentes pour nos données"
      ],
      "metadata": {
        "id": "ZE5I4MNcefIy"
      }
    },
    {
      "cell_type": "code",
      "source": [
        "labels[:7]"
      ],
      "metadata": {
        "colab": {
          "base_uri": "https://localhost:8080/"
        },
        "id": "QWRbNu1bepsM",
        "outputId": "1e66421c-e405-4aa9-9e72-35159f243420"
      },
      "execution_count": 21,
      "outputs": [
        {
          "output_type": "execute_result",
          "data": {
            "text/plain": [
              "array([2, 2, 1, 0, 2, 0, 1])"
            ]
          },
          "metadata": {},
          "execution_count": 21
        }
      ]
    },
    {
      "cell_type": "markdown",
      "source": [
        "Etiquettes des 7 premières données, en effet elles sont mal présentées"
      ],
      "metadata": {
        "id": "zNkftUvRfFgF"
      }
    },
    {
      "cell_type": "code",
      "source": [
        "import numpy as np\n",
        "labels = np.arange(n_classes) == labels.reshape(labels.size, 1)\n",
        "labels = labels.astype(np.float)\n",
        "labels[:7]"
      ],
      "metadata": {
        "colab": {
          "base_uri": "https://localhost:8080/"
        },
        "id": "OAl-XcOSfUMz",
        "outputId": "538c072e-a576-4d04-f568-868ef3397a7b"
      },
      "execution_count": 34,
      "outputs": [
        {
          "output_type": "stream",
          "name": "stderr",
          "text": [
            "/usr/local/lib/python3.7/dist-packages/ipykernel_launcher.py:3: DeprecationWarning: `np.float` is a deprecated alias for the builtin `float`. To silence this warning, use `float` by itself. Doing this will not modify any behavior and is safe. If you specifically wanted the numpy scalar type, use `np.float64` here.\n",
            "Deprecated in NumPy 1.20; for more details and guidance: https://numpy.org/devdocs/release/1.20.0-notes.html#deprecations\n",
            "  This is separate from the ipykernel package so we can avoid doing imports until\n"
          ]
        },
        {
          "output_type": "execute_result",
          "data": {
            "text/plain": [
              "array([[0., 0., 1.],\n",
              "       [0., 0., 1.],\n",
              "       [0., 1., 0.],\n",
              "       [1., 0., 0.],\n",
              "       [0., 0., 1.],\n",
              "       [1., 0., 0.],\n",
              "       [0., 1., 0.]])"
            ]
          },
          "metadata": {},
          "execution_count": 34
        }
      ]
    },
    {
      "cell_type": "markdown",
      "source": [
        "Dèsormais les étiquettes sont représentées sous la forme d'un vecteur de trois entrées correspondants aux trois classes , de sorte à ce qu'on ait 1 au niveau de la classe correspondante à notre donnée et 0 sur les autres"
      ],
      "metadata": {
        "id": "_tdrzbcofeKx"
      }
    },
    {
      "cell_type": "code",
      "source": [
        "from sklearn.model_selection import train_test_split\n",
        "res = train_test_split(data, labels,train_size=0.8,test_size=0.2,random_state=42)\n",
        "train_data, test_data, train_labels, test_labels = res\n",
        "train_labels[:10]"
      ],
      "metadata": {
        "colab": {
          "base_uri": "https://localhost:8080/"
        },
        "id": "a-AvrRhif-oC",
        "outputId": "af8598f5-03ea-4720-9c53-594cc575a0d7"
      },
      "execution_count": 36,
      "outputs": [
        {
          "output_type": "execute_result",
          "data": {
            "text/plain": [
              "array([[0., 0., 1.],\n",
              "       [0., 1., 0.],\n",
              "       [1., 0., 0.],\n",
              "       [0., 0., 1.],\n",
              "       [0., 0., 1.],\n",
              "       [1., 0., 0.],\n",
              "       [0., 1., 0.],\n",
              "       [1., 0., 0.],\n",
              "       [1., 0., 0.],\n",
              "       [0., 0., 1.]])"
            ]
          },
          "metadata": {},
          "execution_count": 36
        }
      ]
    },
    {
      "cell_type": "markdown",
      "source": [
        "importation de la méthode train_test_split pour la division de notre ensemble de données en deux: 80% pour entraînement et 20% pour le test"
      ],
      "metadata": {
        "id": "XCTA4zyHgLTt"
      }
    },
    {
      "cell_type": "code",
      "source": [
        "simple_network = NeuralNetwork(no_of_in_nodes=2,no_of_out_nodes=3,no_of_hidden_nodes=5,learning_rate=0.3)"
      ],
      "metadata": {
        "id": "npkzH32Rg3Dp"
      },
      "execution_count": 37,
      "outputs": []
    },
    {
      "cell_type": "code",
      "source": [
        "for i in range(len(train_data)):\n",
        "    simple_network.train(train_data[i], train_labels[i])\n",
        "simple_network.evaluate(train_data, train_labels)"
      ],
      "metadata": {
        "colab": {
          "base_uri": "https://localhost:8080/"
        },
        "id": "kZOc4A4bhY2S",
        "outputId": "d528f2f2-928c-4440-be91-b7bc26a3cfc3"
      },
      "execution_count": 48,
      "outputs": [
        {
          "output_type": "execute_result",
          "data": {
            "text/plain": [
              "(270, 130)"
            ]
          },
          "metadata": {},
          "execution_count": 48
        }
      ]
    },
    {
      "cell_type": "markdown",
      "source": [
        "Evaluation des données de train sur notre modèle de réseau de neurones"
      ],
      "metadata": {
        "id": "tmH6Roe4uwJo"
      }
    },
    {
      "cell_type": "code",
      "source": [
        "import numpy as np\n",
        "from scipy.stats import truncnorm\n",
        "from scipy.special import expit as activation_function\n",
        "def truncated_normal(mean=0, sd=1, low=0, upp=10):\n",
        "    return truncnorm((low - mean) / sd, (upp - mean) / sd, loc=mean, scale=sd)"
      ],
      "metadata": {
        "id": "fqnE82pyhpGR"
      },
      "execution_count": 28,
      "outputs": []
    },
    {
      "cell_type": "markdown",
      "source": [
        ""
      ],
      "metadata": {
        "id": "l6FZiLscnhKe"
      }
    },
    {
      "cell_type": "code",
      "source": [
        "class NeuralNetwork:\n",
        "    def __init__(self,no_of_in_nodes,no_of_out_nodes,no_of_hidden_nodes,learning_rate,bias=None):\n",
        "        self.no_of_in_nodes = no_of_in_nodes\n",
        "        self.no_of_hidden_nodes = no_of_hidden_nodes\n",
        "        self.no_of_out_nodes = no_of_out_nodes\n",
        "        self.learning_rate = learning_rate\n",
        "        self.bias = bias\n",
        "        self.create_weight_matrices()\n",
        "\n",
        "    def create_weight_matrices(self):\n",
        "        bias_node = 1 if self.bias else 0\n",
        "        rad = 1 / np.sqrt(self.no_of_in_nodes + bias_node)\n",
        "        X = truncated_normal(mean=0, sd=1, low=-rad, upp=rad)\n",
        "        self.weights_in_hidden = X.rvs((self.no_of_hidden_nodes,\n",
        "        self.no_of_in_nodes + bias_node))\n",
        "        rad = 1 / np.sqrt(self.no_of_hidden_nodes + bias_node)\n",
        "        X = truncated_normal(mean=0, sd=1, low=-rad, upp=rad)\n",
        "        self.weights_hidden_out = X.rvs((self.no_of_out_nodes,self.no_of_hidden_nodes+ bias_node))\n",
        "\n",
        "    def train(self, input_vector, target_vector):\n",
        "# make sure that the vectors have the right shap\n",
        "        input_vector = np.array(input_vector)\n",
        "        input_vector = input_vector.reshape(input_vector.size,1)\n",
        "        if self.bias:\n",
        "       # adding bias node to the end of the input_vector\n",
        "            input_vector = np.concatenate( (input_vector, [[self.bias]]) )\n",
        "        target_vector = np.array(target_vector).reshape(target_vector.size, 1)\n",
        "        output_vector_hidden = activation_function(self.weights_in_hidden @ input_vector)\n",
        "        if self.bias:\n",
        "            output_vector_hidden = np.concatenate( (output_vector_hidden, [[self.bias]]) )\n",
        "            output_vector_network = activation_function(self.weights_hidden_out @ output_vector_hidden)\n",
        "            output_error = target_vector - output_vector_network\n",
        "# update the weights:\n",
        "            tmp = output_error * output_vector_network * (1.0 - output_vector_network)\n",
        "            self.weights_hidden_out += self.learning_rate * (tmp @ output_vector_hidden.T)\n",
        "# calculate hidden errors:\n",
        "            hidden_errors = self.weights_hidden_out.T @ output_error\n",
        "# update the weights:\n",
        "            tmp = hidden_errors * output_vector_hidden * (1.0 - output_vector_hidden)\n",
        "            if self.bias:\n",
        "                x = (tmp @input_vector.T)[:-1,:] # last row cut off,\n",
        "            else:\n",
        "                x = tmp @ input_vector.T\n",
        "                self.weights_in_hidden += self.learning_rate * x\n",
        "    \n",
        "    def run(self, input_vector):\n",
        "# make sure that input_vector is a column vector:\n",
        "        input_vector = np.array(input_vector)\n",
        "        input_vector = input_vector.reshape(input_vector.size, 1)\n",
        "        if self.bias:\n",
        "# adding bias node to the end of the inpuy_vector\n",
        "            input_vector = np.concatenate( (input_vector, [[1]]) )\n",
        "        input4hidden = activation_function(self.weights_in_hidden@ input_vector)\n",
        "        if self.bias:\n",
        "            input4hidden = np.concatenate( (input4hidden, [[1]]) )\n",
        "        output_vector_network = activation_function(self.weights_hidden_out @ input4hidden)\n",
        "        return output_vector_network\n",
        "    def evaluate(self, data, labels):\n",
        "        corrects, wrongs = 0, 0\n",
        "        for i in range(len(data)):\n",
        "            res = self.run(data[i])\n",
        "            res_max = res.argmax()\n",
        "            if res_max == labels[i].argmax():\n",
        "                corrects += 1\n",
        "            else:\n",
        "                wrongs += 1\n",
        "        return corrects, wrongs"
      ],
      "metadata": {
        "id": "oKHKc6mGneki"
      },
      "execution_count": 42,
      "outputs": []
    },
    {
      "cell_type": "markdown",
      "source": [
        "Définition semblable du réseau de neurones précédents mais cette fois on ajoute un biais"
      ],
      "metadata": {
        "id": "Vetb53P3r9qm"
      }
    },
    {
      "cell_type": "code",
      "source": [
        "simple_network = NeuralNetwork(no_of_in_nodes=2,no_of_out_nodes=3,no_of_hidden_nodes=5,learning_rate=0.1,bias=1)\n",
        "for i in range(len(train_data)):\n",
        "    simple_network.train(train_data[i], train_labels[i])\n",
        "simple_network.evaluate(train_data, train_labels)"
      ],
      "metadata": {
        "colab": {
          "base_uri": "https://localhost:8080/"
        },
        "id": "jjFoIrRysPl6",
        "outputId": "f3989b17-a69b-44c7-971e-e9e16c5012de"
      },
      "execution_count": 44,
      "outputs": [
        {
          "output_type": "execute_result",
          "data": {
            "text/plain": [
              "(270, 130)"
            ]
          },
          "metadata": {},
          "execution_count": 44
        }
      ]
    },
    {
      "cell_type": "markdown",
      "source": [
        "Evaluation de notre modèle avec biais sur le data set de make blobs"
      ],
      "metadata": {
        "id": "yISJgINItz-k"
      }
    },
    {
      "cell_type": "code",
      "source": [
        ""
      ],
      "metadata": {
        "id": "JI0JZtent_5v"
      },
      "execution_count": 48,
      "outputs": []
    },
    {
      "cell_type": "code",
      "source": [
        ""
      ],
      "metadata": {
        "id": "WO4Vm-nPtppt"
      },
      "execution_count": 48,
      "outputs": []
    }
  ]
}