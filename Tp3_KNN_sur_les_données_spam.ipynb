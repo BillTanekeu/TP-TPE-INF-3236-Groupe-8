{
  "cells": [
    {
      "cell_type": "markdown",
      "metadata": {
        "id": "view-in-github",
        "colab_type": "text"
      },
      "source": [
        "<a href=\"https://colab.research.google.com/github/BillTanekeu/TP-TPE-INF-3236-Groupe-8/blob/main/Tp3_KNN_sur_les_donn%C3%A9es_spam.ipynb\" target=\"_parent\"><img src=\"https://colab.research.google.com/assets/colab-badge.svg\" alt=\"Open In Colab\"/></a>"
      ]
    },
    {
      "cell_type": "markdown",
      "metadata": {
        "id": "GDMnIW6R7XGH"
      },
      "source": [
        "\n",
        "#TP:  KNN sur les données \"spam\"\n",
        "\n",
        "\n",
        "> **Groupe-8**\n",
        "\n",
        "\n",
        "* Tanekeu Bill Jordan-------------------------------19M2459\n",
        "\n",
        "* Ndongo Ndongo Papia Ange Borel--------19M2308\n",
        "\n",
        "* Ghomsi Sikali Diane Laure---------------------18U2202\n",
        "\n",
        "* Tchuimo Wamba Jordan------------------------19M2396 \n"
      ]
    },
    {
      "cell_type": "markdown",
      "metadata": {
        "id": "FprkoHiw7jLz"
      },
      "source": [
        "# Données utilisé: SMS Spam Collection Dataset\n",
        "\n",
        "Lien de téléchargement: \n",
        "\n",
        "https://www.kaggle.com/datasets/uciml/sms-spam-collection-dataset/download"
      ]
    },
    {
      "cell_type": "code",
      "source": [
        "import os\n",
        "import string\n",
        "from nltk.corpus import stopwords\n",
        "from sklearn.model_selection import train_test_split\n",
        "from sklearn.metrics import accuracy_score\n",
        "import numpy as np\n",
        "import pandas as pd\n"
      ],
      "metadata": {
        "id": "vsYgyFUbBIKC"
      },
      "execution_count": 1,
      "outputs": []
    },
    {
      "cell_type": "markdown",
      "source": [
        "#Importation des données\n",
        "Veuillez selectionner le fichier spam.csv téléchargé plus haut"
      ],
      "metadata": {
        "id": "J_dydi7VgIJY"
      }
    },
    {
      "cell_type": "code",
      "execution_count": 2,
      "metadata": {
        "colab": {
          "base_uri": "https://localhost:8080/",
          "height": 73,
          "resources": {
            "http://localhost:8080/nbextensions/google.colab/files.js": {
              "data": "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",
              "headers": [
                [
                  "content-type",
                  "application/javascript"
                ]
              ],
              "ok": true,
              "status": 200,
              "status_text": ""
            }
          }
        },
        "id": "x_eAy6fd0Wu7",
        "outputId": "c9efddec-59d5-4f9d-edd0-0b0d122a3ce7"
      },
      "outputs": [
        {
          "output_type": "display_data",
          "data": {
            "text/plain": [
              "<IPython.core.display.HTML object>"
            ],
            "text/html": [
              "\n",
              "     <input type=\"file\" id=\"files-f42c3d9f-c054-4dd7-ad7b-cdd42449ca2d\" name=\"files[]\" multiple disabled\n",
              "        style=\"border:none\" />\n",
              "     <output id=\"result-f42c3d9f-c054-4dd7-ad7b-cdd42449ca2d\">\n",
              "      Upload widget is only available when the cell has been executed in the\n",
              "      current browser session. Please rerun this cell to enable.\n",
              "      </output>\n",
              "      <script src=\"/nbextensions/google.colab/files.js\"></script> "
            ]
          },
          "metadata": {}
        },
        {
          "output_type": "stream",
          "name": "stdout",
          "text": [
            "Saving spam.csv to spam.csv\n"
          ]
        }
      ],
      "source": [
        "from google.colab import files\n",
        "import io\n",
        "uploader = files.upload()"
      ]
    },
    {
      "cell_type": "code",
      "execution_count": 3,
      "metadata": {
        "id": "cF74rx_H1H-7"
      },
      "outputs": [],
      "source": [
        "def load_data():\n",
        "    data = pd.read_csv(io.BytesIO(uploader[\"spam.csv\"]), encoding = \"ISO-8859-1\")\n",
        "    data = data.drop(columns=['Unnamed: 2', 'Unnamed: 3','Unnamed: 4'])\n",
        "    data.columns = [\"class\", \"message\"]\n",
        "\n",
        "    return data\n",
        "data = load_data()"
      ]
    },
    {
      "cell_type": "markdown",
      "source": [
        "fonction de chargement du jeu de données.\n",
        "après chargement du fichier .csv , il supprime les trois dernières colonnes qui nous sont inutiles. Ensuite on renomme les deux premières en respectivement  class et message"
      ],
      "metadata": {
        "id": "IDKhWYbnCRpl"
      }
    },
    {
      "cell_type": "markdown",
      "source": [
        "##Entête jeu de données"
      ],
      "metadata": {
        "id": "J4YVC7yp-AJ2"
      }
    },
    {
      "cell_type": "code",
      "source": [
        "data.head"
      ],
      "metadata": {
        "colab": {
          "base_uri": "https://localhost:8080/"
        },
        "id": "zT_88L3C99Ls",
        "outputId": "5d4b287e-b8a8-4c21-91dd-60d0a5881365"
      },
      "execution_count": 13,
      "outputs": [
        {
          "output_type": "execute_result",
          "data": {
            "text/plain": [
              "<bound method NDFrame.head of      class                                            message\n",
              "0      ham  Go until jurong point, crazy.. Available only ...\n",
              "1      ham                      Ok lar... Joking wif u oni...\n",
              "2     spam  Free entry in 2 a wkly comp to win FA Cup fina...\n",
              "3      ham  U dun say so early hor... U c already then say...\n",
              "4      ham  Nah I don't think he goes to usf, he lives aro...\n",
              "...    ...                                                ...\n",
              "5567  spam  This is the 2nd time we have tried 2 contact u...\n",
              "5568   ham              Will Ì_ b going to esplanade fr home?\n",
              "5569   ham  Pity, * was in mood for that. So...any other s...\n",
              "5570   ham  The guy did some bitching but I acted like i'd...\n",
              "5571   ham                         Rofl. Its true to its name\n",
              "\n",
              "[5572 rows x 2 columns]>"
            ]
          },
          "metadata": {},
          "execution_count": 13
        }
      ]
    },
    {
      "cell_type": "markdown",
      "source": [
        "## Nombre de spam dans le jeu de données"
      ],
      "metadata": {
        "id": "jgB-SydF9vF6"
      }
    },
    {
      "cell_type": "code",
      "execution_count": 14,
      "metadata": {
        "colab": {
          "base_uri": "https://localhost:8080/"
        },
        "id": "btOYe9Gp65jh",
        "outputId": "f38eb8d3-a65f-4e87-b304-540c82974046"
      },
      "outputs": [
        {
          "output_type": "execute_result",
          "data": {
            "text/plain": [
              "747"
            ]
          },
          "metadata": {},
          "execution_count": 14
        }
      ],
      "source": [
        "len(data[data['class'] == \"spam\"])\n"
      ]
    },
    {
      "cell_type": "code",
      "source": [
        "import nltk\n",
        "nltk.download(\"stopwords\")"
      ],
      "metadata": {
        "colab": {
          "base_uri": "https://localhost:8080/"
        },
        "id": "45p0SuvEqmub",
        "outputId": "e4e801f6-078d-4afd-fd1f-2ac21f58cb86"
      },
      "execution_count": 15,
      "outputs": [
        {
          "output_type": "stream",
          "name": "stdout",
          "text": [
            "[nltk_data] Downloading package stopwords to /root/nltk_data...\n",
            "[nltk_data]   Unzipping corpora/stopwords.zip.\n"
          ]
        },
        {
          "output_type": "execute_result",
          "data": {
            "text/plain": [
              "True"
            ]
          },
          "metadata": {},
          "execution_count": 15
        }
      ]
    },
    {
      "cell_type": "markdown",
      "source": [
        "#Prétraitement des données\n",
        "\n",
        "- Suppression des symboles ou pontuaction\n",
        "- Mettre toutes les lettres en minuscules"
      ],
      "metadata": {
        "id": "TMUn5qPKYRdE"
      }
    },
    {
      "cell_type": "code",
      "execution_count": 16,
      "metadata": {
        "id": "Qt5YuVKC8eJt"
      },
      "outputs": [],
      "source": [
        "def preprocess_data(data):\n",
        "    print(\"Preprocessing data...\")\n",
        "    \n",
        "    punc = string.punctuation           #Liste de ponctuation \n",
        "    sw = stopwords.words('english')     # liste des mots vides\n",
        "    for i in range(len(data)):\n",
        "         # Supprime la ponctuation et les symboles courants \n",
        "        for item in punc:\n",
        "            data[i] = data[i].replace(item, \"\")\n",
        "         # Mettez toutes les lettres en minuscules et supprimez les mots vides\n",
        "        splittedWords = data[i].split()\n",
        "        newText = \"\"\n",
        "        for word in splittedWords:\n",
        "            if word not in sw:\n",
        "                word = word.lower()\n",
        "                newText = newText + \" \" + word  \n",
        "        data[i] = newText\n",
        "    return data\n"
      ]
    },
    {
      "cell_type": "markdown",
      "source": [
        "## resultat du pre-traitement"
      ],
      "metadata": {
        "id": "hfPFeBU4_m_r"
      }
    },
    {
      "cell_type": "code",
      "source": [
        "\n",
        "df1 = data\n",
        "data_pre = preprocess_data(df1['message'])\n",
        "data_pre"
      ],
      "metadata": {
        "colab": {
          "base_uri": "https://localhost:8080/"
        },
        "id": "7eHyvsUO0Kq6",
        "outputId": "a60e3fcb-870d-4945-fa85-36097ca725aa"
      },
      "execution_count": 17,
      "outputs": [
        {
          "output_type": "stream",
          "name": "stdout",
          "text": [
            "Preprocessing data...\n"
          ]
        },
        {
          "output_type": "execute_result",
          "data": {
            "text/plain": [
              "0        go jurong point crazy available bugis n great...\n",
              "1                                 ok lar joking wif u oni\n",
              "2        free entry 2 wkly comp win fa cup final tkts ...\n",
              "3                     u dun say early hor u c already say\n",
              "4           nah i dont think goes usf lives around though\n",
              "                              ...                        \n",
              "5567     this 2nd time tried 2 contact u u å£750 pound...\n",
              "5568                     will ì b going esplanade fr home\n",
              "5569                          pity mood soany suggestions\n",
              "5570     the guy bitching i acted like id interested b...\n",
              "5571                                   rofl its true name\n",
              "Name: message, Length: 5572, dtype: object"
            ]
          },
          "metadata": {},
          "execution_count": 17
        }
      ]
    },
    {
      "cell_type": "markdown",
      "source": [
        "#Séparation données d'entraînement et test\n",
        "On utilise train_test_split du module sklearn\n",
        "\n",
        "27% des données est utilisé pour le test"
      ],
      "metadata": {
        "id": "6-g4IGeR2AO7"
      }
    },
    {
      "cell_type": "code",
      "source": [
        "def split_data(data):\n",
        "    labels = data[\"class\"]\n",
        "    features =  data['message']\n",
        "    features = preprocess_data(features)\n",
        "    \n",
        "    features = features.to_numpy()\n",
        "    labels = labels.to_numpy()\n",
        "\n",
        "    training_data, test_data, training_labels, test_labels = train_test_split(features, labels, test_size = 0.27, random_state = 42)  # division du data set \n",
        "    return training_data , test_data , training_labels , test_labels\n",
        "\n",
        "training_data , test_data , training_labels , test_labels = split_data(data)\n",
        "\n",
        "print(\"taille données d'entraînement : \", training_data.shape)\n",
        "print(\"taille données de test : \", test_data.shape)\n"
      ],
      "metadata": {
        "id": "TzYCc8Jx1_6U",
        "colab": {
          "base_uri": "https://localhost:8080/"
        },
        "outputId": "1489dc61-ff74-4a93-a396-896fe2433d10"
      },
      "execution_count": 20,
      "outputs": [
        {
          "output_type": "stream",
          "name": "stdout",
          "text": [
            "Preprocessing data...\n",
            "taille données d'entraînement :  (4067,)\n",
            "taille données de test :  (1505,)\n"
          ]
        }
      ]
    },
    {
      "cell_type": "markdown",
      "source": [
        "Tout d'abord, il est nécessaire d'avoir les textes des e-mails dans un tableau numpy et les étiquettes dans un autre tableau.\n",
        "\n",
        "La méthode train_test_split a ensuite été utilisée pour diviser les données en training_data, test_data, training_labels et test_labels. L'état aléatoire a été défini sur 42 pour garantir que la même sortie de mélange aléatoire sera obtenue à des fins de test. Après le fractionnement, training_data, test_data, training_labels et test_labels sont renvoyés.\n"
      ],
      "metadata": {
        "id": "BM5luNfcA2yq"
      }
    },
    {
      "cell_type": "code",
      "source": [
        "comp = 0\n",
        "for i in training_labels:\n",
        "  if i=='spam':\n",
        "    comp +=1\n",
        "print(comp)"
      ],
      "metadata": {
        "colab": {
          "base_uri": "https://localhost:8080/"
        },
        "id": "wV1skEQUAvzr",
        "outputId": "40c59aa2-f5f5-448f-a4e3-0d5e4fb7098b"
      },
      "execution_count": 24,
      "outputs": [
        {
          "output_type": "stream",
          "name": "stdout",
          "text": [
            "544\n"
          ]
        }
      ]
    },
    {
      "cell_type": "markdown",
      "source": [
        "#L'algorithme KNN\n"
      ],
      "metadata": {
        "id": "zfjQD0ORA_Pg"
      }
    },
    {
      "cell_type": "code",
      "source": [
        "def get_count(text):\n",
        "    wordCounts = dict()\n",
        "    for word in text.split():\n",
        "        if word in wordCounts:\n",
        "            wordCounts[word] += 1\n",
        "        else:\n",
        "            wordCounts[word] = 1\n",
        "    \n",
        "    return wordCounts\n",
        "\n"
      ],
      "metadata": {
        "id": "1KuH6L9-Aayl"
      },
      "execution_count": 25,
      "outputs": []
    },
    {
      "cell_type": "markdown",
      "source": [
        "Cette fonction prend un seul texte d'e-mail et le divise à l'aide de split(). La fréquence d'occurrence de chaque mot dans l'e-mail est comptée et enregistrée dans wordCounts, qui est de type dictionnaire. Le dictionnaire wordCounts est ensuite renvoyé."
      ],
      "metadata": {
        "id": "ZA8veK96aA1A"
      }
    },
    {
      "cell_type": "markdown",
      "source": [
        "##  resultat de get_count() sur une données"
      ],
      "metadata": {
        "id": "7Mj-REibCDMd"
      }
    },
    {
      "cell_type": "code",
      "source": [
        "\n",
        "get_count(training_data[1])"
      ],
      "metadata": {
        "colab": {
          "base_uri": "https://localhost:8080/"
        },
        "id": "jLaLfACdHuqq",
        "outputId": "2ee10072-a846-44b9-913f-841619a88d7d"
      },
      "execution_count": 26,
      "outputs": [
        {
          "output_type": "execute_result",
          "data": {
            "text/plain": [
              "{'2': 1,\n",
              " '25': 1,\n",
              " 'alone': 1,\n",
              " 'buffy': 1,\n",
              " 'c': 1,\n",
              " 'feeling': 1,\n",
              " 'freemsg': 1,\n",
              " 'help08700621170150p': 1,\n",
              " 'hey': 1,\n",
              " 'home': 1,\n",
              " 'im': 1,\n",
              " 'love': 1,\n",
              " 'men': 1,\n",
              " 'msg': 1,\n",
              " 'pix': 1,\n",
              " 'qlynnbv': 1,\n",
              " 'randy': 1,\n",
              " 'reply': 1,\n",
              " 'satisfy': 1,\n",
              " 'send': 1,\n",
              " 'stop': 2,\n",
              " 'txts': 1}"
            ]
          },
          "metadata": {},
          "execution_count": 26
        }
      ]
    },
    {
      "cell_type": "markdown",
      "source": [
        "#fonction euclidean_difference()\n",
        "Cette fonction prend en compte un dictionnaire de nombre de mots d'un e-mail de test test_WordCounts et un autre dictionnaire d'un e-mail de formation, training_wordCounts. total stocke la somme de la différence au carré de la fréquence d'un mot dans l'e-mail de test et d'entraînement."
      ],
      "metadata": {
        "id": "RCv2rD6-B45i"
      }
    },
    {
      "cell_type": "code",
      "source": [
        "def euclidean_difference(test_WordCounts, training_WordCounts):\n",
        "    total = 0\n",
        "    for word in test_WordCounts:\n",
        "        \n",
        "        # si le mot est dans les deux e-mails, calculez la différence de comptage, mettez-la au carré et ajoutez-la au total\n",
        "        if word in test_WordCounts and word in training_WordCounts:\n",
        "            total += (test_WordCounts[word] - training_WordCounts[word])**2\n",
        "            \n",
        "            # pour supprimer les mots courants, pour accélérer le traitement dans la prochaine boucle for\n",
        "            del training_WordCounts[word]\n",
        "        \n",
        "        # si mot dans l'e-mail de test uniquement, mettez le compte au carré et ajoutez au total\n",
        "        else:\n",
        "            total += test_WordCounts[word]**2\n",
        "    \n",
        "    # Mettez au carré le nombre de mots uniquement dans l'e-mail de formation et ajoutez-le au total\n",
        "    for word in training_WordCounts:\n",
        "        total += training_WordCounts[word]**2\n",
        "     \n",
        "    return total**0.5"
      ],
      "metadata": {
        "id": "Km4X_OMRAoZG"
      },
      "execution_count": 27,
      "outputs": []
    },
    {
      "cell_type": "code",
      "source": [
        ""
      ],
      "metadata": {
        "id": "P7fPLPdFdqY0"
      },
      "execution_count": null,
      "outputs": []
    },
    {
      "cell_type": "markdown",
      "source": [
        "## calcul de la distance entre la première données d'entraînement et la première données de test\n"
      ],
      "metadata": {
        "id": "JbNByi0yC0nl"
      }
    },
    {
      "cell_type": "code",
      "source": [
        "euclidean_difference(get_count(training_data[1]), get_count(test_data[1]))"
      ],
      "metadata": {
        "colab": {
          "base_uri": "https://localhost:8080/"
        },
        "id": "jJb_bYojH3e2",
        "outputId": "b363c5e1-fa0c-4a85-b8ba-83702742ad3c"
      },
      "execution_count": 28,
      "outputs": [
        {
          "output_type": "execute_result",
          "data": {
            "text/plain": [
              "6.708203932499369"
            ]
          },
          "metadata": {},
          "execution_count": 28
        }
      ]
    },
    {
      "cell_type": "markdown",
      "source": [
        "#fonction get_class()\n",
        "Cette fonction prend en compte la liste des K plus proches voisins sélectionnés pour déterminer la classe de l'email de test en cours. spam_count et ham_count stockent la fréquence d'occurrence de chaque étiquette \"spam\" et étiquette \"ham\" respectivement dans les K voisins les plus proches sélectionnés.\n",
        "\n",
        "si spam_count est supérieur à ham_count, cela signifie que l'e-mail de test actuel a plus tendance à être du spam, donc une chaîne \"spam\" est renvoyée comme étiquette prédite. Sinon, la chaîne \"ham\" est renvoyée comme étiquette prédite."
      ],
      "metadata": {
        "id": "kgFKKxAGCIxn"
      }
    },
    {
      "cell_type": "code",
      "source": [
        "def get_class(selected_Kvalues): \n",
        "    spam_count = 0 \n",
        "    ham_count = 0\n",
        "    for value in selected_Kvalues:\n",
        "      if value[0] == \"spam\":\n",
        "        spam_count+= 1\n",
        "      else:\n",
        "        ham_count+= 1\n",
        "    \n",
        "    if spam_count > ham_count :\n",
        "      return \"spam\"\n",
        "    else:\n",
        "      return \"ham\"\n",
        "\n",
        "    "
      ],
      "metadata": {
        "id": "rtpaerP_CH_p"
      },
      "execution_count": 29,
      "outputs": []
    },
    {
      "cell_type": "markdown",
      "source": [
        "#fonction knn_classifier()\n",
        "\n",
        "Le classifieur KNN ci dessous traite un jeu de données entier de facon à prendre chaque donnée contenu dans l'ensemble de test et calculer sa distance par rapport à toutes les données de l'ensemble de \"train\". \n",
        "\n",
        "Il stocke les resultats dans un tableau(similarity) puis ce tableau est trié dans l'ordre croissant des distances; en fonctioin du k défini , on consevera les k premières distances qui nous permettront d'évaluer la classe de la donnée de test correspondante. Chaque résultat est ainsi sauvegardé dans dans un tableau qui est renvoyé à la fin de la procédure."
      ],
      "metadata": {
        "id": "Puhsxpt8mqJa"
      }
    },
    {
      "cell_type": "code",
      "source": [
        "# le module tqdm permet d'avoir une barre de progression\n",
        "from tqdm import tqdm"
      ],
      "metadata": {
        "id": "HWDZFh2kL0d4"
      },
      "execution_count": 30,
      "outputs": []
    },
    {
      "cell_type": "code",
      "source": [
        "def knn_classifier(training_data, training_labels, test_data, k ):\n",
        "  print(\"Running KNN classifier...\")\n",
        "  result = []\n",
        "  training_WordCounts = []\n",
        "\n",
        "  for training_text in training_data:\n",
        "      training_WordCounts.append(get_count(training_text))\n",
        "  \n",
        "  for test_text in tqdm(test_data):\n",
        "      similarity = []\n",
        "      test_WordCounts = get_count(test_text)\n",
        "      \n",
        "      for index in range(len(training_data)):\n",
        "        euclidean_diff =  euclidean_difference(test_WordCounts , training_WordCounts[index])\n",
        "        similarity.append([training_labels[index], euclidean_diff])\n",
        "      \n",
        "      similarity = sorted(similarity , key = lambda i:i[1])\n",
        "      selected_Kvalues = []\n",
        "      \n",
        "      for i in range(k) : \n",
        "        selected_Kvalues.append(similarity[i])\n",
        "      \n",
        "      result.append(get_class(selected_Kvalues))\n",
        "  \n",
        "  return result\n"
      ],
      "metadata": {
        "id": "KRkHqcD1mxyO"
      },
      "execution_count": 32,
      "outputs": []
    },
    {
      "cell_type": "code",
      "source": [
        "# execution de knn sur une données\n",
        "knn_classifier(training_data, training_labels, test_data[1:2], 5 )"
      ],
      "metadata": {
        "colab": {
          "base_uri": "https://localhost:8080/"
        },
        "id": "y8H0osqpMTv2",
        "outputId": "2374f73e-c180-41c3-d908-c34e17995d75"
      },
      "execution_count": 33,
      "outputs": [
        {
          "output_type": "stream",
          "name": "stdout",
          "text": [
            "Running KNN classifier...\n"
          ]
        },
        {
          "output_type": "stream",
          "name": "stderr",
          "text": [
            "100%|██████████| 1/1 [00:00<00:00,  7.40it/s]\n"
          ]
        },
        {
          "output_type": "execute_result",
          "data": {
            "text/plain": [
              "['ham']"
            ]
          },
          "metadata": {},
          "execution_count": 33
        }
      ]
    },
    {
      "cell_type": "markdown",
      "source": [
        "#Exécution sur le jeu de test"
      ],
      "metadata": {
        "id": "QuJtMHNFQD7V"
      }
    },
    {
      "cell_type": "code",
      "source": [
        "k = 3    # ici on fixe par exemple le nombre de voisins à 11\n",
        "result = knn_classifier(training_data, training_labels, test_data, k )"
      ],
      "metadata": {
        "colab": {
          "base_uri": "https://localhost:8080/"
        },
        "id": "yisVO6xRQS-c",
        "outputId": "2c026377-1e10-4862-f403-501e84e7f72d"
      },
      "execution_count": 37,
      "outputs": [
        {
          "output_type": "stream",
          "name": "stdout",
          "text": [
            "Running KNN classifier...\n"
          ]
        },
        {
          "output_type": "stream",
          "name": "stderr",
          "text": [
            "100%|██████████| 1505/1505 [00:38<00:00, 39.50it/s]\n"
          ]
        }
      ]
    },
    {
      "cell_type": "markdown",
      "source": [
        "# accuracy-score"
      ],
      "metadata": {
        "id": "QFxF3XyuQrCn"
      }
    },
    {
      "cell_type": "code",
      "source": [
        "tsize = len(test_data)\n",
        "accuracy = accuracy_score(test_labels[:tsize], result)"
      ],
      "metadata": {
        "id": "Ymxscn_OQ0GR"
      },
      "execution_count": 38,
      "outputs": []
    },
    {
      "cell_type": "code",
      "source": [
        "print(\"training data size\\t:\" + str(len(training_data)))\n",
        "print(\"k value\\t\\t\\t:\" + str(k))\n",
        "print(\"Samples tested\\t\\t:\" + str(tsize))\n",
        "print(\"% accuracy\\t\\t:\" + str(accuracy*100))\n",
        "print(\"number correct\\t\\t:\" + str(int(accuracy*tsize)))\n",
        "print(\"Number wrong\\t\\t:\" + str(int((1-accuracy)*tsize)))"
      ],
      "metadata": {
        "colab": {
          "base_uri": "https://localhost:8080/"
        },
        "id": "4ruZTQ-8RTGc",
        "outputId": "d8c64a32-1600-4da0-ff8f-a5da49a34c04"
      },
      "execution_count": 39,
      "outputs": [
        {
          "output_type": "stream",
          "name": "stdout",
          "text": [
            "training data size\t:4067\n",
            "k value\t\t\t:3\n",
            "Samples tested\t\t:1505\n",
            "% accuracy\t\t:89.03654485049833\n",
            "number correct\t\t:1340\n",
            "Number wrong\t\t:165\n"
          ]
        }
      ]
    },
    {
      "cell_type": "code",
      "source": [
        ""
      ],
      "metadata": {
        "id": "3bOtPtNTEJTq"
      },
      "execution_count": null,
      "outputs": []
    }
  ],
  "metadata": {
    "colab": {
      "name": "Tp3 KNN sur les données spam.ipynb",
      "provenance": [],
      "collapsed_sections": [],
      "include_colab_link": true
    },
    "kernelspec": {
      "display_name": "Python 3",
      "name": "python3"
    },
    "language_info": {
      "name": "python"
    }
  },
  "nbformat": 4,
  "nbformat_minor": 0
}